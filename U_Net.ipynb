{
  "nbformat": 4,
  "nbformat_minor": 0,
  "metadata": {
    "colab": {
      "name": "U-Net.ipynb",
      "provenance": [],
      "collapsed_sections": []
    },
    "kernelspec": {
      "display_name": "Python 3",
      "language": "python",
      "name": "python3"
    },
    "language_info": {
      "codemirror_mode": {
        "name": "ipython",
        "version": 3
      },
      "file_extension": ".py",
      "mimetype": "text/x-python",
      "name": "python",
      "nbconvert_exporter": "python",
      "pygments_lexer": "ipython3",
      "version": "3.7.4"
    },
    "accelerator": "GPU"
  },
  "cells": [
    {
      "cell_type": "code",
      "metadata": {
        "id": "R3S-J2TMI8M4"
      },
      "source": [
        "'''\n",
        "U-Net Implementation\n",
        "'''"
      ],
      "execution_count": null,
      "outputs": []
    },
    {
      "cell_type": "markdown",
      "metadata": {
        "id": "GA5l4mnZn03B"
      },
      "source": [
        "## DataSet"
      ]
    },
    {
      "cell_type": "code",
      "metadata": {
        "id": "oi3BYfPQvnvd"
      },
      "source": [
        "from __future__ import print_function\n",
        "import torch\n",
        "import torch.nn as nn\n",
        "import torch.optim as optim\n",
        "import torch.nn.functional as F\n",
        "from torch.utils.data import DataLoader\n",
        "from torchvision import datasets, transforms, utils\n",
        "from torch.autograd import Variable\n",
        "\n",
        "import os\n",
        "import csv\n",
        "import numpy as np\n",
        "import pandas as pd\n",
        "\n",
        "from matplotlib import pyplot as plt\n",
        "%matplotlib inline\n",
        "# Ignore warnings\n",
        "import warnings\n",
        "warnings.filterwarnings(\"ignore\")\n",
        "\n",
        "%load_ext autoreload\n",
        "\n",
        "%autoreload 2\n",
        "plt.ion()   # interactive mode\n",
        "\n",
        "\n",
        "\n",
        "from torch.nn import Conv2d as Conv2D\n",
        "import torch.nn.init as init\n",
        "import torch.nn.functional as F\n",
        "from torch.nn import Upsample\n",
        "\n",
        "import cv2\n",
        "from torch.utils.data import Dataset"
      ],
      "execution_count": null,
      "outputs": []
    },
    {
      "cell_type": "code",
      "metadata": {
        "id": "m1EtK9dZH4pq"
      },
      "source": [
        "!gdown --id 1opMhHAiMJVdD0eYAJEcuHZgTscgFBCpj\n",
        "!gdown --id 1uVs0yvi-HRj0yyez9MbnGwk_EsCHDLzl"
      ],
      "execution_count": null,
      "outputs": []
    },
    {
      "cell_type": "code",
      "metadata": {
        "id": "WQwEuQi9U92t"
      },
      "source": [
        "%mkdir Dataset\n",
        "%mkdir Dataset/2d_images\n",
        "%mkdir Dataset/2d_masks"
      ],
      "execution_count": null,
      "outputs": []
    },
    {
      "cell_type": "code",
      "metadata": {
        "id": "Bhf6fHWlURN6"
      },
      "source": [
        "\n",
        "!unzip -q 2d_images.zip.zip \n",
        "!unzip -q 2d_images.zip -d Dataset/2d_images\n",
        "\n",
        "!unzip -q 2d_masks.zip.zip \n",
        "!unzip -q 2d_masks.zip -d Dataset/2d_masks"
      ],
      "execution_count": null,
      "outputs": []
    },
    {
      "cell_type": "code",
      "metadata": {
        "id": "eDjVbTzKV9JI"
      },
      "source": [
        "!rm -rf 2d_images.zip.zip\n",
        "!rm -rf 2d_images.zip\n",
        "\n",
        "!rm -rf 2d_masks.zip.zip\n",
        "!rm -rf 2d_masks.zip"
      ],
      "execution_count": null,
      "outputs": []
    },
    {
      "cell_type": "markdown",
      "metadata": {
        "id": "zr7lj5Hcyabk"
      },
      "source": [
        "## DataLoader"
      ]
    },
    {
      "cell_type": "code",
      "metadata": {
        "id": "2Ukp9r5W9eZC"
      },
      "source": [
        "class CT_Data(Dataset):\n",
        "\n",
        "    def __init__(self, csv_file, root_dir):\n",
        "\n",
        "        self.image_frame = pd.read_csv(csv_file, skiprows=1)\n",
        "        self.root_dir = root_dir\n",
        "\n",
        "    def __len__(self):\n",
        "        return len(self.image_frame)\n",
        "\n",
        "    def __getitem__(self, idx):\n",
        "\n",
        "        img_name = os.path.join(self.root_dir, self.image_frame.iloc[idx, 0])\n",
        "        mask_name = os.path.join(self.root_dir, self.image_frame.iloc[idx, 1])\n",
        "        image = cv2.imread(img_name, 0)\n",
        "        image = cv2.resize(image,(32, 32))\n",
        "        image = image.reshape((1, 32, 32))\n",
        "        mask = cv2.imread(mask_name, 0)\n",
        "        mask = cv2.resize(mask, (32, 32))\n",
        "        mask = mask.reshape((1, 32, 32))\n",
        "        sample = {'image': image, 'mask': mask}\n",
        "        return sample"
      ],
      "execution_count": null,
      "outputs": []
    },
    {
      "cell_type": "code",
      "metadata": {
        "id": "4akgB1MbygYG"
      },
      "source": [
        "img_dir = \"Dataset/2d_images/\"\n",
        "msk_dir = \"Dataset/2d_masks/\"\n",
        "with open('Dataset/Dataset.csv', 'w') as csv_file:\n",
        "    writer = csv.writer(csv_file)\n",
        "    writer.writerow([\"filename\", \"mask\"])\n",
        "    for p in os.listdir(img_dir):\n",
        "        image_path = os.path.join(img_dir, p)\n",
        "        mask_path = os.path.join(msk_dir, p)\n",
        "        writer.writerow([image_path, mask_path])\n",
        "\n",
        "\n",
        "data = pd.read_csv(\"Dataset/Dataset.csv\")\n",
        "data = data.iloc[np.random.permutation(len(data))]\n",
        "partition = int(len(data)*0.7)\n",
        "train, validation = data[:partition], data[partition:]\n",
        "train.to_csv(\"Dataset/Train.csv\", index=False)\n",
        "validation.to_csv(\"Dataset/Validation.csv\", index=False)\n",
        "\n",
        "train_dataset = CT_Data(csv_file='Dataset/Train.csv', root_dir='/content')\n",
        "val_dataset = CT_Data(csv_file='Dataset/Validation.csv', root_dir='/content')\n",
        "train_dataloader = DataLoader(train_dataset, batch_size=37, shuffle=True, num_workers=4)\n",
        "val_dataloader = DataLoader(val_dataset, batch_size=20, shuffle=True, num_workers=4)"
      ],
      "execution_count": null,
      "outputs": []
    },
    {
      "cell_type": "markdown",
      "metadata": {
        "id": "vPXR8tEIyhyw"
      },
      "source": [
        "## U-Net Model"
      ]
    },
    {
      "cell_type": "code",
      "metadata": {
        "id": "CpsspcUc9AIY"
      },
      "source": [
        "\n",
        "class Up(nn.Module):\n",
        "    def __init__(self, channel_in, channel_out):\n",
        "        super(Up, self).__init__()\n",
        "        ###########################################\n",
        "        self.upsample = nn.Upsample(scale_factor=2, mode='bilinear')\n",
        "        self.conv = nn.Sequential(\n",
        "            Conv2D(\n",
        "                  channel_in,\n",
        "                   channel_out,\n",
        "                   kernel_size=3,\n",
        "                   padding=1),\n",
        "                   nn.BatchNorm2d(channel_out),\n",
        "                   nn.ReLU(inplace=True)\n",
        "        )\n",
        "        ###########################################\n",
        "\n",
        "    def forward(self, x1, x2):\n",
        "        ###########################################\n",
        "        x1 = self.upsample(x1)\n",
        "        diff_x = x1.size()[2] - x2.size()[2]\n",
        "        diff_y = x1.size()[3] - x2.size()[3]\n",
        "        # Padding \n",
        "        x2 = F.pad(x2, (diff_x // 2, int(diff_x / 2),\n",
        "                        diff_y // 2, int(diff_y / 2)))\n",
        "        x = torch.cat([x2, x1], dim=1)\n",
        "        x = self.conv(x)\n",
        "        return x        \n",
        "        ###########################################\n",
        "        \n",
        "class Down(nn.Module):\n",
        "    def __init__(self, channel_in, channel_out):\n",
        "        super(Down, self).__init__()\n",
        "        ###########################################\n",
        "        self.conv = nn.Sequential(\n",
        "            Conv2D(\n",
        "                channel_in,\n",
        "                channel_out,\n",
        "                kernel_size = 3,\n",
        "                padding = 1),\n",
        "                nn.BatchNorm2d(channel_out),\n",
        "                nn.ReLU(inplace=True)\n",
        "        )\n",
        "        ###########################################\n",
        "\n",
        "    def forward(self, x):\n",
        "        ###########################################\n",
        "        x = F.max_pool2d(x,2)\n",
        "        x = self.conv(x)\n",
        "        return x\n",
        "        ###########################################\n",
        "\n",
        "class UNet(nn.Module):\n",
        "    def __init__(self, channel_in, classes):\n",
        "        super(UNet, self).__init__()\n",
        "        ###########################################\n",
        "        self.conv1 = nn.Sequential(\n",
        "            Conv2D(channel_in, 8, kernel_size=3, padding=1),\n",
        "            nn.BatchNorm2d(8),\n",
        "            nn.ReLU(inplace=True)\n",
        "        )\n",
        "        self.down1 = Down(8, 16)\n",
        "        self.down2 = Down(16, 32)\n",
        "        self.down3 = Down(32, 32)\n",
        "        self.up1 = Up(64, 16)\n",
        "        self.up2 = Up(32, 8)\n",
        "        self.up3 = Up(16, 4)\n",
        "        self.conv2 = nn.Conv2d(4, classes, kernel_size = 1)\n",
        "        ###########################################\n",
        "\n",
        "    def forward(self, x):\n",
        "        ###########################################\n",
        "        x1 = self.conv1(x)\n",
        "        x2 = self.down1(x1)\n",
        "        x3 = self.down2(x2)\n",
        "        x4 = self.down3(x3)\n",
        "        x = self.up1(x4, x3)\n",
        "        x = self.up2(x, x2)\n",
        "        x = self.up3(x, x1)\n",
        "        x = self.conv2(x)\n",
        "        x = F.sigmoid(x)\n",
        "        return x\n",
        "        ###########################################\n",
        "\n",
        "def weights_init(m):\n",
        "    if isinstance(m, nn.Conv2d):\n",
        "        init.xavier_uniform(m.weight, gain=numpy.sqrt(2.0))\n",
        "        init.constant(m.bias, 0.1)\n",
        "\n",
        "\n"
      ],
      "execution_count": null,
      "outputs": []
    },
    {
      "cell_type": "markdown",
      "metadata": {
        "id": "3IHuR2DYy7P9"
      },
      "source": [
        "## Training"
      ]
    },
    {
      "cell_type": "code",
      "metadata": {
        "id": "mdlN7pmGjd6g"
      },
      "source": [
        "def IoU(output, target):\n",
        "    smooth = 1e-5\n",
        "    oss = output > 0.5\n",
        "    tss = target > 0.5\n",
        "    intersection = (oss & tss).sum(axis=[1, 2, 3])\n",
        "    union = (oss | tss).sum(axis=[1, 2, 3])\n",
        "    IoU = ((intersection + smooth) / (union + smooth)).mean()\n",
        "    return IoU"
      ],
      "execution_count": null,
      "outputs": []
    },
    {
      "cell_type": "code",
      "metadata": {
        "id": "pgYtlFne9U3k",
        "colab": {
          "base_uri": "https://localhost:8080/"
        },
        "outputId": "84bf5d81-423a-445f-aa37-febbb0e4eea5"
      },
      "source": [
        "\n",
        "#device = torch.device('cuda' if torch.cuda.is_available() else 'cpu')\n",
        "\n",
        "freq = 1\n",
        "model = UNet(1, 1)\n",
        "optimizer = optim.Adam(model.parameters(), lr=1e-2)\n",
        "criterion = nn.BCELoss()\n",
        "\n",
        "def train(model, epoch):\n",
        "    ###########################################\n",
        "    model.train()\n",
        "    correct = 0\n",
        "    ###########################################\n",
        "    for batch_idx, data in enumerate(train_dataloader):\n",
        "        ###########################################\n",
        "        data, target = Variable(data[\"image\"]), Variable(data[\"mask\"])\n",
        "        # Normalize Data\n",
        "        target = (target-torch.min(target))/(torch.max(target)-torch.min(target))\n",
        "        \n",
        "        optimizer.zero_grad()\n",
        "        output = model.forward(data.float())\n",
        "        loss = criterion(output.float(), target.float())\n",
        "        optimizer.zero_grad()\n",
        "        loss.backward()\n",
        "        optimizer.step()\n",
        "        ###########################################\n",
        "        if batch_idx % freq == 0:\n",
        "            batch_percent = 100. * batch_idx / len(train_dataloader)\n",
        "            print(f'Epoch number:{epoch} '  \n",
        "                  f'({batch_percent}%)\\tLoss:{loss.data:.3f}'\n",
        "                 )\n",
        "        ###########################################       \n",
        "            \n",
        "            \n",
        "\n",
        "def test(model):\n",
        "    ###########################################\n",
        "    model.eval()\n",
        "    ###########################################\n",
        "    loss = iou = 0.\n",
        "    for data in val_dataloader:\n",
        "        ###########################################\n",
        "        data, target = Variable(data['image'], volatile=True), Variable(data['mask'])\n",
        "        output = model(data.float())\n",
        "        # Normalize Data\n",
        "        target = (target-torch.min(target))/(torch.max(target)-torch.min(target))\n",
        "        loss += criterion(output.float(), target.float()).data \n",
        "        iou += IoU(output, target)   \n",
        "    loss /= len(val_dataloader)\n",
        "    iou /= len(val_dataloader)\n",
        "    print(f'Average loss:{loss:.3f}\\nIoU:{iou:.3f}\\n')\n",
        "    ###########################################\n",
        "\n",
        "Num_of_eopchs = 25\n",
        "\n",
        "for epoch in range(1, Num_of_eopchs):\n",
        "    train(model, epoch)\n",
        "    test(model)\n"
      ],
      "execution_count": null,
      "outputs": [
        {
          "output_type": "stream",
          "text": [
            "Epoch number:1 (0.0%)\tLoss:0.763\n",
            "Epoch number:1 (20.0%)\tLoss:0.629\n",
            "Epoch number:1 (40.0%)\tLoss:0.569\n",
            "Epoch number:1 (60.0%)\tLoss:0.547\n",
            "Epoch number:1 (80.0%)\tLoss:0.530\n",
            "Average loss:2.424\n",
            "IoU:0.242\n",
            "\n",
            "Epoch number:2 (0.0%)\tLoss:0.522\n",
            "Epoch number:2 (20.0%)\tLoss:0.511\n",
            "Epoch number:2 (40.0%)\tLoss:0.493\n",
            "Epoch number:2 (60.0%)\tLoss:0.479\n",
            "Epoch number:2 (80.0%)\tLoss:0.463\n",
            "Average loss:2.818\n",
            "IoU:0.246\n",
            "\n",
            "Epoch number:3 (0.0%)\tLoss:0.458\n",
            "Epoch number:3 (20.0%)\tLoss:0.450\n",
            "Epoch number:3 (40.0%)\tLoss:0.435\n",
            "Epoch number:3 (60.0%)\tLoss:0.423\n",
            "Epoch number:3 (80.0%)\tLoss:0.410\n",
            "Average loss:1.412\n",
            "IoU:0.267\n",
            "\n",
            "Epoch number:4 (0.0%)\tLoss:0.398\n",
            "Epoch number:4 (20.0%)\tLoss:0.388\n",
            "Epoch number:4 (40.0%)\tLoss:0.384\n",
            "Epoch number:4 (60.0%)\tLoss:0.366\n",
            "Epoch number:4 (80.0%)\tLoss:0.360\n",
            "Average loss:0.668\n",
            "IoU:0.393\n",
            "\n",
            "Epoch number:5 (0.0%)\tLoss:0.344\n",
            "Epoch number:5 (20.0%)\tLoss:0.333\n",
            "Epoch number:5 (40.0%)\tLoss:0.327\n",
            "Epoch number:5 (60.0%)\tLoss:0.315\n",
            "Epoch number:5 (80.0%)\tLoss:0.315\n",
            "Average loss:0.357\n",
            "IoU:0.722\n",
            "\n",
            "Epoch number:6 (0.0%)\tLoss:0.296\n",
            "Epoch number:6 (20.0%)\tLoss:0.292\n",
            "Epoch number:6 (40.0%)\tLoss:0.277\n",
            "Epoch number:6 (60.0%)\tLoss:0.276\n",
            "Epoch number:6 (80.0%)\tLoss:0.259\n",
            "Average loss:0.300\n",
            "IoU:0.797\n",
            "\n",
            "Epoch number:7 (0.0%)\tLoss:0.259\n",
            "Epoch number:7 (20.0%)\tLoss:0.245\n",
            "Epoch number:7 (40.0%)\tLoss:0.243\n",
            "Epoch number:7 (60.0%)\tLoss:0.227\n",
            "Epoch number:7 (80.0%)\tLoss:0.219\n",
            "Average loss:0.259\n",
            "IoU:0.815\n",
            "\n",
            "Epoch number:8 (0.0%)\tLoss:0.213\n",
            "Epoch number:8 (20.0%)\tLoss:0.207\n",
            "Epoch number:8 (40.0%)\tLoss:0.207\n",
            "Epoch number:8 (60.0%)\tLoss:0.209\n",
            "Epoch number:8 (80.0%)\tLoss:0.187\n",
            "Average loss:0.218\n",
            "IoU:0.853\n",
            "\n",
            "Epoch number:9 (0.0%)\tLoss:0.203\n",
            "Epoch number:9 (20.0%)\tLoss:0.177\n",
            "Epoch number:9 (40.0%)\tLoss:0.171\n",
            "Epoch number:9 (60.0%)\tLoss:0.166\n",
            "Epoch number:9 (80.0%)\tLoss:0.160\n",
            "Average loss:0.194\n",
            "IoU:0.862\n",
            "\n",
            "Epoch number:10 (0.0%)\tLoss:0.155\n",
            "Epoch number:10 (20.0%)\tLoss:0.152\n",
            "Epoch number:10 (40.0%)\tLoss:0.162\n",
            "Epoch number:10 (60.0%)\tLoss:0.153\n",
            "Epoch number:10 (80.0%)\tLoss:0.141\n",
            "Average loss:0.179\n",
            "IoU:0.865\n",
            "\n",
            "Epoch number:11 (0.0%)\tLoss:0.147\n",
            "Epoch number:11 (20.0%)\tLoss:0.143\n",
            "Epoch number:11 (40.0%)\tLoss:0.133\n",
            "Epoch number:11 (60.0%)\tLoss:0.124\n",
            "Epoch number:11 (80.0%)\tLoss:0.123\n",
            "Average loss:0.148\n",
            "IoU:0.883\n",
            "\n",
            "Epoch number:12 (0.0%)\tLoss:0.120\n",
            "Epoch number:12 (20.0%)\tLoss:0.129\n",
            "Epoch number:12 (40.0%)\tLoss:0.127\n",
            "Epoch number:12 (60.0%)\tLoss:0.112\n",
            "Epoch number:12 (80.0%)\tLoss:0.109\n",
            "Average loss:0.140\n",
            "IoU:0.887\n",
            "\n",
            "Epoch number:13 (0.0%)\tLoss:0.116\n",
            "Epoch number:13 (20.0%)\tLoss:0.116\n",
            "Epoch number:13 (40.0%)\tLoss:0.106\n",
            "Epoch number:13 (60.0%)\tLoss:0.099\n",
            "Epoch number:13 (80.0%)\tLoss:0.099\n",
            "Average loss:0.119\n",
            "IoU:0.902\n",
            "\n",
            "Epoch number:14 (0.0%)\tLoss:0.098\n",
            "Epoch number:14 (20.0%)\tLoss:0.095\n",
            "Epoch number:14 (40.0%)\tLoss:0.105\n",
            "Epoch number:14 (60.0%)\tLoss:0.090\n",
            "Epoch number:14 (80.0%)\tLoss:0.100\n",
            "Average loss:0.115\n",
            "IoU:0.893\n",
            "\n",
            "Epoch number:15 (0.0%)\tLoss:0.110\n",
            "Epoch number:15 (20.0%)\tLoss:0.087\n",
            "Epoch number:15 (40.0%)\tLoss:0.086\n",
            "Epoch number:15 (60.0%)\tLoss:0.083\n",
            "Epoch number:15 (80.0%)\tLoss:0.088\n",
            "Average loss:0.108\n",
            "IoU:0.891\n",
            "\n",
            "Epoch number:16 (0.0%)\tLoss:0.081\n",
            "Epoch number:16 (20.0%)\tLoss:0.083\n",
            "Epoch number:16 (40.0%)\tLoss:0.081\n",
            "Epoch number:16 (60.0%)\tLoss:0.085\n",
            "Epoch number:16 (80.0%)\tLoss:0.090\n",
            "Average loss:0.108\n",
            "IoU:0.900\n",
            "\n",
            "Epoch number:17 (0.0%)\tLoss:0.088\n",
            "Epoch number:17 (20.0%)\tLoss:0.076\n",
            "Epoch number:17 (40.0%)\tLoss:0.082\n",
            "Epoch number:17 (60.0%)\tLoss:0.073\n",
            "Epoch number:17 (80.0%)\tLoss:0.075\n",
            "Average loss:0.097\n",
            "IoU:0.902\n",
            "\n",
            "Epoch number:18 (0.0%)\tLoss:0.082\n",
            "Epoch number:18 (20.0%)\tLoss:0.071\n",
            "Epoch number:18 (40.0%)\tLoss:0.079\n",
            "Epoch number:18 (60.0%)\tLoss:0.069\n",
            "Epoch number:18 (80.0%)\tLoss:0.068\n",
            "Average loss:0.097\n",
            "IoU:0.892\n",
            "\n",
            "Epoch number:19 (0.0%)\tLoss:0.071\n",
            "Epoch number:19 (20.0%)\tLoss:0.065\n",
            "Epoch number:19 (40.0%)\tLoss:0.072\n",
            "Epoch number:19 (60.0%)\tLoss:0.072\n",
            "Epoch number:19 (80.0%)\tLoss:0.067\n",
            "Average loss:0.092\n",
            "IoU:0.902\n",
            "\n",
            "Epoch number:20 (0.0%)\tLoss:0.067\n",
            "Epoch number:20 (20.0%)\tLoss:0.067\n",
            "Epoch number:20 (40.0%)\tLoss:0.064\n",
            "Epoch number:20 (60.0%)\tLoss:0.063\n",
            "Epoch number:20 (80.0%)\tLoss:0.068\n",
            "Average loss:0.090\n",
            "IoU:0.897\n",
            "\n",
            "Epoch number:21 (0.0%)\tLoss:0.062\n",
            "Epoch number:21 (20.0%)\tLoss:0.061\n",
            "Epoch number:21 (40.0%)\tLoss:0.068\n",
            "Epoch number:21 (60.0%)\tLoss:0.064\n",
            "Epoch number:21 (80.0%)\tLoss:0.061\n",
            "Average loss:0.091\n",
            "IoU:0.897\n",
            "\n",
            "Epoch number:22 (0.0%)\tLoss:0.064\n",
            "Epoch number:22 (20.0%)\tLoss:0.057\n",
            "Epoch number:22 (40.0%)\tLoss:0.066\n",
            "Epoch number:22 (60.0%)\tLoss:0.056\n",
            "Epoch number:22 (80.0%)\tLoss:0.059\n",
            "Average loss:0.086\n",
            "IoU:0.911\n",
            "\n",
            "Epoch number:23 (0.0%)\tLoss:0.057\n",
            "Epoch number:23 (20.0%)\tLoss:0.056\n",
            "Epoch number:23 (40.0%)\tLoss:0.060\n",
            "Epoch number:23 (60.0%)\tLoss:0.062\n",
            "Epoch number:23 (80.0%)\tLoss:0.057\n",
            "Average loss:0.091\n",
            "IoU:0.892\n",
            "\n",
            "Epoch number:24 (0.0%)\tLoss:0.054\n",
            "Epoch number:24 (20.0%)\tLoss:0.061\n",
            "Epoch number:24 (40.0%)\tLoss:0.054\n",
            "Epoch number:24 (60.0%)\tLoss:0.054\n",
            "Epoch number:24 (80.0%)\tLoss:0.059\n",
            "Average loss:0.083\n",
            "IoU:0.916\n",
            "\n"
          ],
          "name": "stdout"
        }
      ]
    },
    {
      "cell_type": "markdown",
      "metadata": {
        "id": "XlWhUQcMyW8x"
      },
      "source": [
        "## Visualization\n"
      ]
    },
    {
      "cell_type": "markdown",
      "metadata": {
        "id": "LPMTvh_3zByn"
      },
      "source": [
        "visualize output of your trained network on 5 data from validation dataset, and compare it with ground truth."
      ]
    },
    {
      "cell_type": "code",
      "metadata": {
        "id": "gk-OqCrJbggW",
        "colab": {
          "base_uri": "https://localhost:8080/",
          "height": 188
        },
        "outputId": "a63864ee-b692-4919-8361-7abc0462a034"
      },
      "source": [
        "batch = iter(val_dataloader).next()\n",
        "with torch.no_grad(): outputs = model(batch['image'].float())\n",
        "groundtruth = utils.make_grid(batch['mask'][:5] , nrow=5)\n",
        "out = utils.make_grid(255*(outputs[:5] >= 0.5) , nrow=5)\n",
        "_, (ax0, ax1) = plt.subplots(1, 2, figsize=(20, 20))\n",
        "ax0.set_title('outputs')\n",
        "ax1.set_title('Ground truth')\n",
        "ax0.imshow(np.transpose(out.numpy(), (1, 2, 0)), interpolation='nearest')\n",
        "ax1.imshow(np.transpose(groundtruth.numpy(), (1, 2, 0)), interpolation='nearest')"
      ],
      "execution_count": null,
      "outputs": [
        {
          "output_type": "execute_result",
          "data": {
            "text/plain": [
              "<matplotlib.image.AxesImage at 0x7f1258932f10>"
            ]
          },
          "metadata": {
            "tags": []
          },
          "execution_count": 34
        },
        {
          "output_type": "display_data",
          "data": {
            "image/png": "[encoded data removed]",
            "text/plain": [
              "<Figure size 1440x1440 with 2 Axes>"
            ]
          },
          "metadata": {
            "tags": [],
            "needs_background": "light"
          }
        }
      ]
    },
    {
      "cell_type": "markdown",
      "metadata": {
        "id": "TLThQ1kxzT0o"
      },
      "source": [
        "## Improve U-Net (bonus)"
      ]
    },
    {
      "cell_type": "markdown",
      "metadata": {
        "id": "z3RHpUhyzm1Z"
      },
      "source": [
        "improve U-Net and compare accuracy and networks outputs with previous parts."
      ]
    },
    {
      "cell_type": "code",
      "metadata": {
        "id": "u9tj1WoVzUms"
      },
      "source": [
        "# We already have 91.6% accuracy :)"
      ],
      "execution_count": null,
      "outputs": []
    }
  ]
}